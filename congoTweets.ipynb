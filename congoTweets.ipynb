{
 "cells": [
  {
   "cell_type": "code",
   "execution_count": 1,
   "source": [
    "import pandas as pd \r\n",
    "import numpy as np\r\n",
    "import sys\r\n",
    "import json\r\n",
    "\r\n",
    "pd.set_option('display.max_colwidth', None)"
   ],
   "outputs": [],
   "metadata": {}
  },
  {
   "cell_type": "code",
   "execution_count": 6,
   "source": [
    "#congoTweets = pd.read_csv ('Tweets.csv', low_memory=False)\r\n",
    "df = pd.read_json('json_output.json', lines = True)\r\n"
   ],
   "outputs": [],
   "metadata": {}
  },
  {
   "cell_type": "code",
   "execution_count": 9,
   "source": [
    "df = df.sort_values(by = ['created_at'])"
   ],
   "outputs": [],
   "metadata": {}
  },
  {
   "cell_type": "code",
   "execution_count": 11,
   "source": [
    "#different languages in the data set\r\n",
    "#congoTweets['lang'].unique()\r\n",
    "\r\n",
    "import ast\r\n",
    "from pandas.io.json import json_normalize\r\n",
    "geo = pd.json_normalize(df['geo'])\r\n",
    "public_metrics = pd.json_normalize(df['public_metrics'])\r\n",
    "df.drop(['geo','public_metrics'],axis=1,inplace=True)\r\n",
    "\r\n",
    "df.reset_index(drop=True, inplace=True)\r\n",
    "geo.reset_index(drop=True, inplace=True)\r\n",
    "public_metrics.reset_index(drop=True, inplace=True)\r\n",
    "df = pd.concat([df,geo,public_metrics],axis=1)"
   ],
   "outputs": [],
   "metadata": {}
  },
  {
   "cell_type": "code",
   "execution_count": 16,
   "source": [
    "#congoTweets['source'].unique()\r\n",
    "len(df['geo.bbox'])"
   ],
   "outputs": [
    {
     "output_type": "execute_result",
     "data": {
      "text/plain": [
       "44364"
      ]
     },
     "metadata": {},
     "execution_count": 16
    }
   ],
   "metadata": {}
  },
  {
   "cell_type": "code",
   "execution_count": 19,
   "source": [
    "#congoTweets.geo[0]\r\n",
    "df = df.sort_values(by = ['geo.bbox'])\r\n",
    "df['geo.bbox'].isna().sum()"
   ],
   "outputs": [
    {
     "output_type": "execute_result",
     "data": {
      "text/plain": [
       "5"
      ]
     },
     "metadata": {},
     "execution_count": 19
    }
   ],
   "metadata": {}
  },
  {
   "cell_type": "code",
   "execution_count": 7,
   "source": [
    "#congoTweets['text']"
   ],
   "outputs": [
    {
     "output_type": "execute_result",
     "data": {
      "text/plain": [
       "0        J’ai envie de mettre la musique , d’adorer mon...\n",
       "1                      @congolites Voilà mon commentaire 😁\n",
       "2                             @Alinomau Merci beaucoup bro\n",
       "3        Salut à tous je viens pour vous annoncer une n...\n",
       "4        Moi même je n’ai pas capté 💀😭 emmenez-moi wesh...\n",
       "                               ...                        \n",
       "44359    Ça serait un carnage, je pense le mieu serait ...\n",
       "44360    @mrs_A_Elise @amouochris @MvondoFabrice @talla...\n",
       "44361    A Pointe Noire aussi pareil apparemment 😅😂 htt...\n",
       "44362                            1 https://t.co/IbpiJ31DrI\n",
       "44363                              @LioneI10l Messi cool e\n",
       "Name: text, Length: 44364, dtype: object"
      ]
     },
     "metadata": {},
     "execution_count": 7
    }
   ],
   "metadata": {}
  },
  {
   "cell_type": "code",
   "execution_count": 81,
   "source": [
    "#test = congoTweets.geo\r\n",
    "#type(test)\r\n"
   ],
   "outputs": [
    {
     "output_type": "execute_result",
     "data": {
      "text/plain": [
       "pandas.core.series.Series"
      ]
     },
     "metadata": {},
     "execution_count": 81
    }
   ],
   "metadata": {}
  },
  {
   "cell_type": "code",
   "execution_count": 86,
   "source": [
    "#type(test[1])\r\n"
   ],
   "outputs": [
    {
     "output_type": "execute_result",
     "data": {
      "text/plain": [
       "str"
      ]
     },
     "metadata": {},
     "execution_count": 86
    }
   ],
   "metadata": {}
  }
 ],
 "metadata": {
  "interpreter": {
   "hash": "82c0337de1a4f0e6ffb948884f01fcd5972a5bb881ecd94c1c3edf43db885021"
  },
  "kernelspec": {
   "name": "python3",
   "display_name": "Python 3.9.5 64-bit"
  },
  "language_info": {
   "name": "python",
   "version": "3.9.5",
   "mimetype": "text/x-python",
   "codemirror_mode": {
    "name": "ipython",
    "version": 3
   },
   "pygments_lexer": "ipython3",
   "nbconvert_exporter": "python",
   "file_extension": ".py"
  },
  "orig_nbformat": 4
 },
 "nbformat": 4,
 "nbformat_minor": 2
}