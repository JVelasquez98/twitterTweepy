{
 "cells": [
  {
   "cell_type": "code",
   "execution_count": 21,
   "id": "wooden-tiffany",
   "metadata": {},
   "outputs": [],
   "source": [
    "import datetime\n",
    "import itertools\n",
    "\n",
    "from twarc.client2 import Twarc2\n",
    "from twarc.expansions import ensure_flattened\n",
    "\n",
    "from twarc_csv import CSVConverter\n",
    "import json"
   ]
  },
  {
   "cell_type": "code",
   "execution_count": 22,
   "id": "mature-gambling",
   "metadata": {},
   "outputs": [],
   "source": [
    "# Your bearer token here\n",
    "t = Twarc2(bearer_token=\"\")\n",
    "\n",
    "# Start and end times must be in UTC\n",
    "start_time = datetime.datetime(2020, 12, 10, 0, 0, 0, 0, datetime.timezone.utc)\n",
    "end_time = datetime.datetime(2021, 3, 22, 0, 0, 0, 0, datetime.timezone.utc)\n",
    "\n",
    "# search_results is a generator, max_results is max tweets per page, 500 max for full archive search.\n",
    "search_results = t.search_all(query=\"place_country:CG\", start_time=start_time, end_time=end_time, max_results=10)\n"
   ]
  },
  {
   "cell_type": "code",
   "execution_count": null,
   "id": "sticky-lighting",
   "metadata": {},
   "outputs": [
    {
     "name": "stderr",
     "output_type": "stream",
     "text": [
      "rate limit exceeded: sleeping 187.53685665130615 secs\n"
     ]
    }
   ],
   "source": [
    "# Get all results page by page:\n",
    "\n",
    "#type(search_results)\n",
    "\n",
    "for page in search_results:\n",
    "    # Do something with the whole page of results:\n",
    "    #print(page)\n",
    "    # or alternatively, \"flatten\" results returning 1 tweet at a time, with expansions inline:\n",
    "\n",
    "    for tweet in ensure_flattened(page):\n",
    "        #Do something with the tweet\n",
    "        with open(\"json_output.json\", \"w+\") as f:\n",
    "            f.write(json.dumps(tweet) + \"\\n\")\n",
    "       #print(tweet)\n",
    "    # Stop iteration prematurely, to only get 1 page of results.\n",
    "\n",
    "    #break\n",
    "\n"
   ]
  },
  {
   "cell_type": "code",
   "execution_count": null,
   "id": "level-behalf",
   "metadata": {},
   "outputs": [],
   "source": [
    "import pandas as pd\n",
    "file = pd.read_json('json_output.json',lines=True)"
   ]
  },
  {
   "cell_type": "code",
   "execution_count": null,
   "id": "instrumental-deployment",
   "metadata": {},
   "outputs": [],
   "source": [
    "file.head()"
   ]
  },
  {
   "cell_type": "code",
   "execution_count": null,
   "id": "personal-recycling",
   "metadata": {},
   "outputs": [],
   "source": [
    "file.to_csv('Tweets.csv')"
   ]
  },
  {
   "cell_type": "code",
   "execution_count": null,
   "id": "entitled-worse",
   "metadata": {},
   "outputs": [],
   "source": []
  }
 ],
 "metadata": {
  "kernelspec": {
   "display_name": "Python 3",
   "language": "python",
   "name": "python3"
  },
  "language_info": {
   "codemirror_mode": {
    "name": "ipython",
    "version": 3
   },
   "file_extension": ".py",
   "mimetype": "text/x-python",
   "name": "python",
   "nbconvert_exporter": "python",
   "pygments_lexer": "ipython3",
   "version": "3.8.10"
  }
 },
 "nbformat": 4,
 "nbformat_minor": 5
}
